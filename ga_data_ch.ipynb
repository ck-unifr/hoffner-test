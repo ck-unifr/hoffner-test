{
 "cells": [
  {
   "cell_type": "markdown",
   "metadata": {},
   "source": [
    "# Data Challenge"
   ]
  },
  {
   "cell_type": "markdown",
   "metadata": {},
   "source": [
    "### A business question we ran into"
   ]
  },
  {
   "cell_type": "markdown",
   "metadata": {},
   "source": [
    "We sometimes run a/b tests. the main difficulty we face in doing this is, __we sometimes do not know what to do and how to interpret results.__\n",
    "\n",
    "For instance:\n",
    "If we have 100 participants in our test group and 98 of those are converting towards a certain goal, while we also have 100 participants in our control group and of those we see only 10 users converting, it is very clear: we should go for the test.\n",
    "\n",
    "But in real life it unfortunatelly is not always that obvious...\n",
    "We sometimes do not really know if a result is meaningful or not. This is, what this test is about.\n",
    "\n",
    "We conducted an a/b-test about recommendation sliders we implemented. __Now we want to know what the test results tell us.__ \n",
    "\n",
    "We will go through everything in detail in the next steps.\n"
   ]
  },
  {
   "cell_type": "markdown",
   "metadata": {},
   "source": [
    "### Import everything that is necessary in this section"
   ]
  },
  {
   "cell_type": "markdown",
   "metadata": {},
   "source": [
    "You don't have to do it now. You can also do it later. __But please put everything you import here.__"
   ]
  },
  {
   "cell_type": "code",
   "execution_count": 144,
   "metadata": {
    "collapsed": true
   },
   "outputs": [],
   "source": [
    "#import your stuff below\n",
    "import pandas as pd\n",
    "import numpy as np\n",
    "import matplotlib.pyplot as plt\n",
    "from matplotlib import pyplot\n",
    "\n",
    "from scipy.stats import ttest_ind\n",
    "from scipy.stats import ks_2samp\n",
    "from scipy.stats import normaltest"
   ]
  },
  {
   "cell_type": "markdown",
   "metadata": {},
   "source": [
    "### Reading csv"
   ]
  },
  {
   "cell_type": "markdown",
   "metadata": {},
   "source": [
    "__Please start here__\n",
    "The name of the csv file is 'ga_data_rndm.csv'\n",
    "It shows randomized sample data from our google analytics account."
   ]
  },
  {
   "cell_type": "code",
   "execution_count": 2,
   "metadata": {
    "collapsed": true
   },
   "outputs": [],
   "source": [
    "df = pd.read_csv('ga_data_rndm.csv')"
   ]
  },
  {
   "cell_type": "code",
   "execution_count": 3,
   "metadata": {},
   "outputs": [
    {
     "data": {
      "text/html": [
       "<div>\n",
       "<style>\n",
       "    .dataframe thead tr:only-child th {\n",
       "        text-align: right;\n",
       "    }\n",
       "\n",
       "    .dataframe thead th {\n",
       "        text-align: left;\n",
       "    }\n",
       "\n",
       "    .dataframe tbody tr th {\n",
       "        vertical-align: top;\n",
       "    }\n",
       "</style>\n",
       "<table border=\"1\" class=\"dataframe\">\n",
       "  <thead>\n",
       "    <tr style=\"text-align: right;\">\n",
       "      <th></th>\n",
       "      <th>Unnamed: 0</th>\n",
       "      <th>Unnamed: 0.1</th>\n",
       "      <th>ga:date</th>\n",
       "      <th>ga:deviceCategory</th>\n",
       "      <th>ga:dimension13</th>\n",
       "      <th>ga:pageviews</th>\n",
       "      <th>ga:sessions</th>\n",
       "      <th>ga:transactionRevenue</th>\n",
       "      <th>ga:transactions</th>\n",
       "      <th>ga:uniquePageviews</th>\n",
       "    </tr>\n",
       "  </thead>\n",
       "  <tbody>\n",
       "    <tr>\n",
       "      <th>0</th>\n",
       "      <td>0</td>\n",
       "      <td>0</td>\n",
       "      <td>20190101</td>\n",
       "      <td>desktop</td>\n",
       "      <td>Technical 50-50 AA-T:0,Recommendation Slide:0,...</td>\n",
       "      <td>20471.0</td>\n",
       "      <td>3688.0</td>\n",
       "      <td>5752.689219</td>\n",
       "      <td>16.0</td>\n",
       "      <td>15230</td>\n",
       "    </tr>\n",
       "    <tr>\n",
       "      <th>1</th>\n",
       "      <td>1</td>\n",
       "      <td>1</td>\n",
       "      <td>20190101</td>\n",
       "      <td>mobile</td>\n",
       "      <td>Technical 50-50 AA-T:0,Recommendation Slide:0,...</td>\n",
       "      <td>55935.0</td>\n",
       "      <td>11187.0</td>\n",
       "      <td>13608.661484</td>\n",
       "      <td>63.0</td>\n",
       "      <td>38746</td>\n",
       "    </tr>\n",
       "    <tr>\n",
       "      <th>2</th>\n",
       "      <td>2</td>\n",
       "      <td>2</td>\n",
       "      <td>20190101</td>\n",
       "      <td>tablet</td>\n",
       "      <td>Technical 50-50 AA-T:0,Recommendation Slide:0,...</td>\n",
       "      <td>16573.0</td>\n",
       "      <td>2857.0</td>\n",
       "      <td>1888.473350</td>\n",
       "      <td>16.0</td>\n",
       "      <td>11914</td>\n",
       "    </tr>\n",
       "    <tr>\n",
       "      <th>3</th>\n",
       "      <td>3</td>\n",
       "      <td>3</td>\n",
       "      <td>20190102</td>\n",
       "      <td>desktop</td>\n",
       "      <td>Technical 50-50 AA-T:0,Recommendation Slide:0,...</td>\n",
       "      <td>35192.0</td>\n",
       "      <td>5426.0</td>\n",
       "      <td>1974.257458</td>\n",
       "      <td>16.0</td>\n",
       "      <td>25681</td>\n",
       "    </tr>\n",
       "    <tr>\n",
       "      <th>4</th>\n",
       "      <td>4</td>\n",
       "      <td>4</td>\n",
       "      <td>20190102</td>\n",
       "      <td>mobile</td>\n",
       "      <td>Technical 50-50 AA-T:0,Recommendation Slide:0,...</td>\n",
       "      <td>62595.0</td>\n",
       "      <td>11332.0</td>\n",
       "      <td>16585.946557</td>\n",
       "      <td>24.0</td>\n",
       "      <td>42533</td>\n",
       "    </tr>\n",
       "  </tbody>\n",
       "</table>\n",
       "</div>"
      ],
      "text/plain": [
       "   Unnamed: 0  Unnamed: 0.1   ga:date ga:deviceCategory  \\\n",
       "0           0             0  20190101           desktop   \n",
       "1           1             1  20190101            mobile   \n",
       "2           2             2  20190101            tablet   \n",
       "3           3             3  20190102           desktop   \n",
       "4           4             4  20190102            mobile   \n",
       "\n",
       "                                      ga:dimension13  ga:pageviews  \\\n",
       "0  Technical 50-50 AA-T:0,Recommendation Slide:0,...       20471.0   \n",
       "1  Technical 50-50 AA-T:0,Recommendation Slide:0,...       55935.0   \n",
       "2  Technical 50-50 AA-T:0,Recommendation Slide:0,...       16573.0   \n",
       "3  Technical 50-50 AA-T:0,Recommendation Slide:0,...       35192.0   \n",
       "4  Technical 50-50 AA-T:0,Recommendation Slide:0,...       62595.0   \n",
       "\n",
       "   ga:sessions  ga:transactionRevenue  ga:transactions  ga:uniquePageviews  \n",
       "0       3688.0            5752.689219             16.0               15230  \n",
       "1      11187.0           13608.661484             63.0               38746  \n",
       "2       2857.0            1888.473350             16.0               11914  \n",
       "3       5426.0            1974.257458             16.0               25681  \n",
       "4      11332.0           16585.946557             24.0               42533  "
      ]
     },
     "execution_count": 3,
     "metadata": {},
     "output_type": "execute_result"
    }
   ],
   "source": [
    "df.head()"
   ]
  },
  {
   "cell_type": "code",
   "execution_count": 4,
   "metadata": {},
   "outputs": [
    {
     "name": "stdout",
     "output_type": "stream",
     "text": [
      "<class 'pandas.core.frame.DataFrame'>\n",
      "RangeIndex: 763 entries, 0 to 762\n",
      "Data columns (total 10 columns):\n",
      "Unnamed: 0               763 non-null int64\n",
      "Unnamed: 0.1             763 non-null int64\n",
      "ga:date                  763 non-null int64\n",
      "ga:deviceCategory        763 non-null object\n",
      "ga:dimension13           763 non-null object\n",
      "ga:pageviews             763 non-null float64\n",
      "ga:sessions              763 non-null float64\n",
      "ga:transactionRevenue    763 non-null float64\n",
      "ga:transactions          763 non-null float64\n",
      "ga:uniquePageviews       763 non-null int64\n",
      "dtypes: float64(4), int64(4), object(2)\n",
      "memory usage: 59.7+ KB\n"
     ]
    }
   ],
   "source": [
    "df.info()"
   ]
  },
  {
   "cell_type": "code",
   "execution_count": 5,
   "metadata": {},
   "outputs": [
    {
     "data": {
      "text/plain": [
       "Index(['Unnamed: 0', 'Unnamed: 0.1', 'ga:date', 'ga:deviceCategory',\n",
       "       'ga:dimension13', 'ga:pageviews', 'ga:sessions',\n",
       "       'ga:transactionRevenue', 'ga:transactions', 'ga:uniquePageviews'],\n",
       "      dtype='object')"
      ]
     },
     "execution_count": 5,
     "metadata": {},
     "output_type": "execute_result"
    }
   ],
   "source": [
    "df.columns"
   ]
  },
  {
   "cell_type": "code",
   "execution_count": 6,
   "metadata": {},
   "outputs": [
    {
     "data": {
      "text/plain": [
       "(763, 10)"
      ]
     },
     "execution_count": 6,
     "metadata": {},
     "output_type": "execute_result"
    }
   ],
   "source": [
    "df.shape"
   ]
  },
  {
   "cell_type": "code",
   "execution_count": 104,
   "metadata": {},
   "outputs": [
    {
     "data": {
      "text/plain": [
       "array(['desktop', 'mobile', 'tablet'], dtype=object)"
      ]
     },
     "execution_count": 104,
     "metadata": {},
     "output_type": "execute_result"
    }
   ],
   "source": [
    "df['ga:deviceCategory'].unique()"
   ]
  },
  {
   "cell_type": "markdown",
   "metadata": {},
   "source": [
    "### Explanations on the dataframe"
   ]
  },
  {
   "cell_type": "markdown",
   "metadata": {},
   "source": [
    "__dimension13 indicates the testgroups the users were in.__\n",
    "\n",
    "__Recommendation Slide:0  always means control group__\n",
    "\n",
    "__Recommendation Slide:1  always means test group__\n",
    "\n",
    "If there is no 'Recommendation Slide' in dimension13 it means, the users did not participate in the test. If there are also other strings in dimension13 (like \"Second Technical 50:0\" or something) those values indicate other tests that ran at the same time. But we are not interested in the results of those tests?\n",
    "\n",
    "\n",
    "In short: In other groups, beside 'Recommendation Slide', we are not interested."
   ]
  },
  {
   "cell_type": "code",
   "execution_count": 12,
   "metadata": {},
   "outputs": [
    {
     "data": {
      "text/plain": [
       "array(['Technical 50-50 AA-T:0,Recommendation Slide:0,Second Technical 50-:0',\n",
       "       'Technical 50-50 AA-T:0,Recommendation Slide:0,Second Technical 50-:1',\n",
       "       'Technical 50-50 AA-T:0,Recommendation Slide:1,Second Technical 50-:0',\n",
       "       'Technical 50-50 AA-T:0,Recommendation Slide:1,Second Technical 50-:1',\n",
       "       'Technical 50-50 AA-T:0,Second Technical 50-:0',\n",
       "       'Technical 50-50 AA-T:0,Second Technical 50-:1',\n",
       "       'Technical 50-50 AA-T:1,Recommendation Slide:0,Second Technical 50-:0',\n",
       "       'Technical 50-50 AA-T:1,Recommendation Slide:0,Second Technical 50-:1',\n",
       "       'Technical 50-50 AA-T:1,Recommendation Slide:1,Second Technical 50-:0',\n",
       "       'Technical 50-50 AA-T:1,Recommendation Slide:1,Second Technical 50-:1',\n",
       "       'Technical 50-50 AA-T:1,Second Technical 50-:0',\n",
       "       'Technical 50-50 AA-T:1,Second Technical 50-:1'], dtype=object)"
      ]
     },
     "execution_count": 12,
     "metadata": {},
     "output_type": "execute_result"
    }
   ],
   "source": [
    "df['ga:dimension13'].unique()"
   ]
  },
  {
   "cell_type": "code",
   "execution_count": 10,
   "metadata": {
    "collapsed": true
   },
   "outputs": [],
   "source": [
    "df['control'] = 0"
   ]
  },
  {
   "cell_type": "code",
   "execution_count": 13,
   "metadata": {},
   "outputs": [],
   "source": [
    "def f(x):\n",
    "    if 'Recommendation Slide:0' in x.split(','):\n",
    "        return 1\n",
    "    return 0\n",
    "df['control'] = df['ga:dimension13'].apply(f)"
   ]
  },
  {
   "cell_type": "code",
   "execution_count": 14,
   "metadata": {},
   "outputs": [
    {
     "data": {
      "text/plain": [
       "array([1, 0])"
      ]
     },
     "execution_count": 14,
     "metadata": {},
     "output_type": "execute_result"
    }
   ],
   "source": [
    "df['control'].unique()"
   ]
  },
  {
   "cell_type": "code",
   "execution_count": 23,
   "metadata": {},
   "outputs": [
    {
     "data": {
      "image/png": "[encoded data removed]",
      "text/plain": [
       "<matplotlib.figure.Figure at 0x10c919c18>"
      ]
     },
     "metadata": {},
     "output_type": "display_data"
    }
   ],
   "source": [
    "plt.hist(df['control'].tolist())\n",
    "plt.show()"
   ]
  },
  {
   "cell_type": "code",
   "execution_count": null,
   "metadata": {
    "collapsed": true
   },
   "outputs": [],
   "source": [
    "df['test'] = 0"
   ]
  },
  {
   "cell_type": "code",
   "execution_count": 15,
   "metadata": {
    "collapsed": true
   },
   "outputs": [],
   "source": [
    "def f(x):\n",
    "    if 'Recommendation Slide:1' in x.split(','):\n",
    "        return 1\n",
    "    return 0\n",
    "df['test'] = df['ga:dimension13'].apply(f)"
   ]
  },
  {
   "cell_type": "code",
   "execution_count": 16,
   "metadata": {},
   "outputs": [
    {
     "data": {
      "text/plain": [
       "array([0, 1])"
      ]
     },
     "execution_count": 16,
     "metadata": {},
     "output_type": "execute_result"
    }
   ],
   "source": [
    "df['test'].unique()"
   ]
  },
  {
   "cell_type": "code",
   "execution_count": 24,
   "metadata": {},
   "outputs": [
    {
     "data": {
      "image/png": "[encoded data removed]",
      "text/plain": [
       "<matplotlib.figure.Figure at 0x10ca95dd8>"
      ]
     },
     "metadata": {},
     "output_type": "display_data"
    }
   ],
   "source": [
    "plt.hist(df['test'].tolist())\n",
    "plt.show()"
   ]
  },
  {
   "cell_type": "code",
   "execution_count": 37,
   "metadata": {
    "collapsed": true
   },
   "outputs": [],
   "source": [
    "df_test = df[df['test'] == 1]"
   ]
  },
  {
   "cell_type": "code",
   "execution_count": 38,
   "metadata": {
    "collapsed": true
   },
   "outputs": [],
   "source": [
    "df_control = df[df['control'] == 1]"
   ]
  },
  {
   "cell_type": "code",
   "execution_count": 39,
   "metadata": {},
   "outputs": [
    {
     "data": {
      "text/plain": [
       "(371, 12)"
      ]
     },
     "execution_count": 39,
     "metadata": {},
     "output_type": "execute_result"
    }
   ],
   "source": [
    "df_test.shape"
   ]
  },
  {
   "cell_type": "code",
   "execution_count": 40,
   "metadata": {},
   "outputs": [
    {
     "data": {
      "text/plain": [
       "(372, 12)"
      ]
     },
     "execution_count": 40,
     "metadata": {},
     "output_type": "execute_result"
    }
   ],
   "source": [
    "df_control.shape"
   ]
  },
  {
   "cell_type": "code",
   "execution_count": 68,
   "metadata": {},
   "outputs": [
    {
     "data": {
      "text/html": [
       "<div>\n",
       "<style>\n",
       "    .dataframe thead tr:only-child th {\n",
       "        text-align: right;\n",
       "    }\n",
       "\n",
       "    .dataframe thead th {\n",
       "        text-align: left;\n",
       "    }\n",
       "\n",
       "    .dataframe tbody tr th {\n",
       "        vertical-align: top;\n",
       "    }\n",
       "</style>\n",
       "<table border=\"1\" class=\"dataframe\">\n",
       "  <thead>\n",
       "    <tr style=\"text-align: right;\">\n",
       "      <th></th>\n",
       "      <th>Unnamed: 0</th>\n",
       "      <th>Unnamed: 0.1</th>\n",
       "      <th>ga:date</th>\n",
       "      <th>ga:deviceCategory</th>\n",
       "      <th>ga:dimension13</th>\n",
       "      <th>ga:pageviews</th>\n",
       "      <th>ga:sessions</th>\n",
       "      <th>ga:transactionRevenue</th>\n",
       "      <th>ga:transactions</th>\n",
       "      <th>ga:uniquePageviews</th>\n",
       "      <th>control</th>\n",
       "      <th>test</th>\n",
       "    </tr>\n",
       "  </thead>\n",
       "  <tbody>\n",
       "  </tbody>\n",
       "</table>\n",
       "</div>"
      ],
      "text/plain": [
       "Empty DataFrame\n",
       "Columns: [Unnamed: 0, Unnamed: 0.1, ga:date, ga:deviceCategory, ga:dimension13, ga:pageviews, ga:sessions, ga:transactionRevenue, ga:transactions, ga:uniquePageviews, control, test]\n",
       "Index: []"
      ]
     },
     "execution_count": 68,
     "metadata": {},
     "output_type": "execute_result"
    }
   ],
   "source": [
    "df_test[df_test['control'] == 1]"
   ]
  },
  {
   "cell_type": "code",
   "execution_count": 69,
   "metadata": {},
   "outputs": [
    {
     "data": {
      "text/html": [
       "<div>\n",
       "<style>\n",
       "    .dataframe thead tr:only-child th {\n",
       "        text-align: right;\n",
       "    }\n",
       "\n",
       "    .dataframe thead th {\n",
       "        text-align: left;\n",
       "    }\n",
       "\n",
       "    .dataframe tbody tr th {\n",
       "        vertical-align: top;\n",
       "    }\n",
       "</style>\n",
       "<table border=\"1\" class=\"dataframe\">\n",
       "  <thead>\n",
       "    <tr style=\"text-align: right;\">\n",
       "      <th></th>\n",
       "      <th>Unnamed: 0</th>\n",
       "      <th>Unnamed: 0.1</th>\n",
       "      <th>ga:date</th>\n",
       "      <th>ga:deviceCategory</th>\n",
       "      <th>ga:dimension13</th>\n",
       "      <th>ga:pageviews</th>\n",
       "      <th>ga:sessions</th>\n",
       "      <th>ga:transactionRevenue</th>\n",
       "      <th>ga:transactions</th>\n",
       "      <th>ga:uniquePageviews</th>\n",
       "      <th>control</th>\n",
       "      <th>test</th>\n",
       "    </tr>\n",
       "  </thead>\n",
       "  <tbody>\n",
       "  </tbody>\n",
       "</table>\n",
       "</div>"
      ],
      "text/plain": [
       "Empty DataFrame\n",
       "Columns: [Unnamed: 0, Unnamed: 0.1, ga:date, ga:deviceCategory, ga:dimension13, ga:pageviews, ga:sessions, ga:transactionRevenue, ga:transactions, ga:uniquePageviews, control, test]\n",
       "Index: []"
      ]
     },
     "execution_count": 69,
     "metadata": {},
     "output_type": "execute_result"
    }
   ],
   "source": [
    "df_control[df_control['test'] == 1]"
   ]
  },
  {
   "cell_type": "markdown",
   "metadata": {},
   "source": [
    "Same number of participants in the two groups "
   ]
  },
  {
   "cell_type": "code",
   "execution_count": null,
   "metadata": {
    "collapsed": true
   },
   "outputs": [],
   "source": []
  },
  {
   "cell_type": "code",
   "execution_count": 232,
   "metadata": {
    "collapsed": true
   },
   "outputs": [],
   "source": [
    "def plot_stat(df, colname):\n",
    "    results = pd.DataFrame()\n",
    "    results[colname] = df[colname].tolist()\n",
    "    # descriptive stats\n",
    "    print(results.describe())\n",
    "    # box and whisker plot\n",
    "    results.boxplot()\n",
    "    pyplot.show()\n",
    "    # histogram\n",
    "    results.hist()\n",
    "    pyplot.show()"
   ]
  },
  {
   "cell_type": "code",
   "execution_count": 233,
   "metadata": {
    "collapsed": true
   },
   "outputs": [],
   "source": [
    "def norm_test(values):\n",
    "    value, p = normaltest(values)\n",
    "    print(value, p)\n",
    "    if p >= 0.05:\n",
    "        #print('It is likely that result1 is normal')\n",
    "        return True\n",
    "    else:\n",
    "        print('It is unlikely that result1 is normal')\n",
    "        return False"
   ]
  },
  {
   "cell_type": "code",
   "execution_count": 234,
   "metadata": {
    "collapsed": true
   },
   "outputs": [],
   "source": [
    "def show_sig_nogauss(df1, df2, colname):\n",
    "    '''\n",
    "    Compare Means for Non-Gaussian Results:\n",
    "    We cannot use the Student t-test or the Welch’s t-test if our data is not Gaussian.\n",
    "    An alternative statistical significance test we can use for non-Gaussian data is called the Kolmogorov-Smirnov test.\n",
    "    '''\n",
    "    # calculate the significance\n",
    "    value, pvalue = ks_2samp(df1[colname], df2[colname])\n",
    "    print(value, pvalue)\n",
    "    if pvalue > 0.05:\n",
    "        print('Samples are likely drawn from the same distributions (fail to reject H0)')\n",
    "    else:\n",
    "        print('Samples are likely drawn from different distributions (reject H0)')"
   ]
  },
  {
   "cell_type": "code",
   "execution_count": 235,
   "metadata": {
    "collapsed": true
   },
   "outputs": [],
   "source": [
    "def show_sig_gauss(df1, df2, colname):\n",
    "    std1 = np.std(df1[colname].values)\n",
    "    std2 = np.std(df2[colname].values)\n",
    "    if std1 != std2:\n",
    "        # Both sets of results are Gaussian and have the same variance; Welch’s t-test.\n",
    "        value, pvalue = ttest_ind(df1[colname].values, df2[colname].values, equal_var=False)\n",
    "    else:\n",
    "        # Both sets of results are Gaussian and have the same variance; Student t-test.\n",
    "        value, pvalue = ttest_ind(df1[colname].values, df2[colname].values, equal_var=True)\n",
    "    print(value, pvalue)\n",
    "    if pvalue > 0.05:\n",
    "        print('Samples are likely drawn from the same distributions (fail to reject H0)')\n",
    "    else:\n",
    "        print('Samples are likely drawn from different distributions (reject H0)')\n",
    "    "
   ]
  },
  {
   "cell_type": "code",
   "execution_count": 236,
   "metadata": {
    "collapsed": true
   },
   "outputs": [],
   "source": [
    "def show_sig(df1, df2, colname):\n",
    "    if (norm_test(df1[colname].tolist()) == True) and (norm_test(df2[colname].tolist()) == True):\n",
    "        show_sig_gauss(df1, df2, colname)\n",
    "    else:\n",
    "        show_sig_nogauss(df1, df2, colname)"
   ]
  },
  {
   "cell_type": "code",
   "execution_count": null,
   "metadata": {
    "collapsed": true
   },
   "outputs": [],
   "source": []
  },
  {
   "cell_type": "markdown",
   "metadata": {},
   "source": [
    "## Invistigate 'ga:pageviews'"
   ]
  },
  {
   "cell_type": "code",
   "execution_count": 237,
   "metadata": {},
   "outputs": [
    {
     "name": "stdout",
     "output_type": "stream",
     "text": [
      "       ga:pageviews\n",
      "count    371.000000\n",
      "mean   25597.129380\n",
      "std    15128.132814\n",
      "min       16.000000\n",
      "25%    14853.500000\n",
      "50%    23031.000000\n",
      "75%    34468.000000\n",
      "max    68540.000000\n"
     ]
    },
    {
     "data": {
      "image/png": "[encoded data removed]",
      "text/plain": [
       "<matplotlib.figure.Figure at 0x10e92fe80>"
      ]
     },
     "metadata": {},
     "output_type": "display_data"
    },
    {
     "data": {
      "image/png": "[encoded data removed]",
      "text/plain": [
       "<matplotlib.figure.Figure at 0x10e753f98>"
      ]
     },
     "metadata": {},
     "output_type": "display_data"
    }
   ],
   "source": [
    "plot_stat(df_test, 'ga:pageviews')"
   ]
  },
  {
   "cell_type": "code",
   "execution_count": 238,
   "metadata": {},
   "outputs": [
    {
     "name": "stdout",
     "output_type": "stream",
     "text": [
      "       ga:pageviews\n",
      "count    372.000000\n",
      "mean   25869.013441\n",
      "std    15361.453298\n",
      "min       16.000000\n",
      "25%    15319.750000\n",
      "50%    23248.000000\n",
      "75%    34126.000000\n",
      "max    73877.000000\n"
     ]
    },
    {
     "data": {
      "image/png": "[encoded data removed]",
      "text/plain": [
       "<matplotlib.figure.Figure at 0x10e6a02e8>"
      ]
     },
     "metadata": {},
     "output_type": "display_data"
    },
    {
     "data": {
      "image/png": "[encoded data removed]",
      "text/plain": [
       "<matplotlib.figure.Figure at 0x10e983518>"
      ]
     },
     "metadata": {},
     "output_type": "display_data"
    }
   ],
   "source": [
    "plot_stat(df_control, 'ga:pageviews')"
   ]
  },
  {
   "cell_type": "markdown",
   "metadata": {},
   "source": []
  },
  {
   "cell_type": "code",
   "execution_count": 239,
   "metadata": {},
   "outputs": [
    {
     "name": "stdout",
     "output_type": "stream",
     "text": [
      "39.44776607634582 2.716604619221591e-09\n",
      "It is unlikely that result1 is normal\n",
      "0.03453322899458022 0.9776952180520176\n",
      "Samples are likely drawn from the same distributions (fail to reject H0)\n"
     ]
    }
   ],
   "source": [
    "show_sig(df_test, df_control, 'ga:pageviews')"
   ]
  },
  {
   "cell_type": "code",
   "execution_count": null,
   "metadata": {
    "collapsed": true
   },
   "outputs": [],
   "source": []
  },
  {
   "cell_type": "markdown",
   "metadata": {},
   "source": [
    "## Investigate 'ga:sessions'"
   ]
  },
  {
   "cell_type": "code",
   "execution_count": 240,
   "metadata": {},
   "outputs": [
    {
     "name": "stdout",
     "output_type": "stream",
     "text": [
      "        ga:sessions\n",
      "count    371.000000\n",
      "mean    4948.989218\n",
      "std     3116.986919\n",
      "min       15.000000\n",
      "25%     2641.000000\n",
      "50%     4123.000000\n",
      "75%     6428.500000\n",
      "max    13062.000000\n"
     ]
    },
    {
     "data": {
      "image/png": "[encoded data removed]",
      "text/plain": [
       "<matplotlib.figure.Figure at 0x10e5bfe48>"
      ]
     },
     "metadata": {},
     "output_type": "display_data"
    },
    {
     "data": {
      "image/png": "[encoded data removed]",
      "text/plain": [
       "<matplotlib.figure.Figure at 0x10c618fd0>"
      ]
     },
     "metadata": {},
     "output_type": "display_data"
    }
   ],
   "source": [
    "plot_stat(df_test, 'ga:sessions')"
   ]
  },
  {
   "cell_type": "code",
   "execution_count": 241,
   "metadata": {},
   "outputs": [
    {
     "name": "stdout",
     "output_type": "stream",
     "text": [
      "        ga:sessions\n",
      "count    372.000000\n",
      "mean    4961.698925\n",
      "std     3149.706900\n",
      "min       15.000000\n",
      "25%     2568.250000\n",
      "50%     4035.500000\n",
      "75%     6462.500000\n",
      "max    13290.000000\n"
     ]
    },
    {
     "data": {
      "image/png": "[encoded data removed]",
      "text/plain": [
       "<matplotlib.figure.Figure at 0x10c598128>"
      ]
     },
     "metadata": {},
     "output_type": "display_data"
    },
    {
     "data": {
      "image/png": "[encoded data removed]",
      "text/plain": [
       "<matplotlib.figure.Figure at 0x10ea47e80>"
      ]
     },
     "metadata": {},
     "output_type": "display_data"
    }
   ],
   "source": [
    "plot_stat(df_control, 'ga:sessions')"
   ]
  },
  {
   "cell_type": "code",
   "execution_count": 242,
   "metadata": {},
   "outputs": [
    {
     "name": "stdout",
     "output_type": "stream",
     "text": [
      "36.61282907293695 1.1210505172027575e-08\n",
      "It is unlikely that result1 is normal\n",
      "0.028867055038692246 0.9974716544789557\n",
      "Samples are likely drawn from the same distributions (fail to reject H0)\n"
     ]
    }
   ],
   "source": [
    "show_sig(df_test, df_control, 'ga:sessions')"
   ]
  },
  {
   "cell_type": "code",
   "execution_count": null,
   "metadata": {
    "collapsed": true
   },
   "outputs": [],
   "source": []
  },
  {
   "cell_type": "markdown",
   "metadata": {},
   "source": [
    "## Investigate 'ga:transactionRevenue'"
   ]
  },
  {
   "cell_type": "code",
   "execution_count": 243,
   "metadata": {},
   "outputs": [
    {
     "name": "stdout",
     "output_type": "stream",
     "text": [
      "       ga:transactionRevenue\n",
      "count             372.000000\n",
      "mean            10206.901428\n",
      "std             11889.046316\n",
      "min                 0.000000\n",
      "25%              1106.588776\n",
      "50%              7088.108412\n",
      "75%             14887.473648\n",
      "max             68069.951155\n"
     ]
    },
    {
     "data": {
      "image/png": "[encoded data removed]",
      "text/plain": [
       "<matplotlib.figure.Figure at 0x10e671668>"
      ]
     },
     "metadata": {},
     "output_type": "display_data"
    },
    {
     "data": {
      "image/png": "[encoded data removed]",
      "text/plain": [
       "<matplotlib.figure.Figure at 0x10e387ef0>"
      ]
     },
     "metadata": {},
     "output_type": "display_data"
    }
   ],
   "source": [
    "plot_stat(df_control, 'ga:transactionRevenue')"
   ]
  },
  {
   "cell_type": "code",
   "execution_count": 244,
   "metadata": {},
   "outputs": [
    {
     "name": "stdout",
     "output_type": "stream",
     "text": [
      "       ga:transactionRevenue\n",
      "count             371.000000\n",
      "mean            10158.633272\n",
      "std             11995.603188\n",
      "min                 0.000000\n",
      "25%              1241.117824\n",
      "50%              6385.674597\n",
      "75%             14417.102441\n",
      "max             72329.018516\n"
     ]
    },
    {
     "data": {
      "image/png": "[encoded data removed]",
      "text/plain": [
       "<matplotlib.figure.Figure at 0x10e365048>"
      ]
     },
     "metadata": {},
     "output_type": "display_data"
    },
    {
     "data": {
      "image/png": "[encoded data removed]",
      "text/plain": [
       "<matplotlib.figure.Figure at 0x10cd39048>"
      ]
     },
     "metadata": {},
     "output_type": "display_data"
    }
   ],
   "source": [
    "plot_stat(df_test, 'ga:transactionRevenue')"
   ]
  },
  {
   "cell_type": "code",
   "execution_count": 245,
   "metadata": {},
   "outputs": [
    {
     "name": "stdout",
     "output_type": "stream",
     "text": [
      "171.670083698797 5.276123721119039e-38\n",
      "It is unlikely that result1 is normal\n",
      "0.03369996811871434 0.9826156102766879\n",
      "Samples are likely drawn from the same distributions (fail to reject H0)\n"
     ]
    }
   ],
   "source": [
    "show_sig(df_control, df_test, 'ga:transactionRevenue')"
   ]
  },
  {
   "cell_type": "code",
   "execution_count": null,
   "metadata": {
    "collapsed": true
   },
   "outputs": [],
   "source": []
  },
  {
   "cell_type": "markdown",
   "metadata": {},
   "source": [
    "## Investigate 'ga:transactions'"
   ]
  },
  {
   "cell_type": "code",
   "execution_count": 246,
   "metadata": {},
   "outputs": [
    {
     "name": "stdout",
     "output_type": "stream",
     "text": [
      "       ga:transactions\n",
      "count       371.000000\n",
      "mean         29.520216\n",
      "std          26.339909\n",
      "min           0.000000\n",
      "25%           8.000000\n",
      "50%          24.000000\n",
      "75%          47.000000\n",
      "max         150.000000\n"
     ]
    },
    {
     "data": {
      "image/png": "[encoded data removed]",
      "text/plain": [
       "<matplotlib.figure.Figure at 0x10c6e5f98>"
      ]
     },
     "metadata": {},
     "output_type": "display_data"
    },
    {
     "data": {
      "image/png": "[encoded data removed]",
      "text/plain": [
       "<matplotlib.figure.Figure at 0x10e9e5240>"
      ]
     },
     "metadata": {},
     "output_type": "display_data"
    }
   ],
   "source": [
    "plot_stat(df_test, 'ga:transactions')"
   ]
  },
  {
   "cell_type": "code",
   "execution_count": 247,
   "metadata": {},
   "outputs": [
    {
     "name": "stdout",
     "output_type": "stream",
     "text": [
      "       ga:transactions\n",
      "count       372.000000\n",
      "mean         29.263441\n",
      "std          26.208072\n",
      "min           0.000000\n",
      "25%           8.000000\n",
      "50%          24.000000\n",
      "75%          47.000000\n",
      "max         142.000000\n"
     ]
    },
    {
     "data": {
      "image/png": "[encoded data removed]",
      "text/plain": [
       "<matplotlib.figure.Figure at 0x10eaaf438>"
      ]
     },
     "metadata": {},
     "output_type": "display_data"
    },
    {
     "data": {
      "image/png": "[encoded data removed]",
      "text/plain": [
       "<matplotlib.figure.Figure at 0x10e61a978>"
      ]
     },
     "metadata": {},
     "output_type": "display_data"
    }
   ],
   "source": [
    "plot_stat(df_control, 'ga:transactions')"
   ]
  },
  {
   "cell_type": "code",
   "execution_count": 248,
   "metadata": {},
   "outputs": [
    {
     "name": "stdout",
     "output_type": "stream",
     "text": [
      "83.57143002310832 7.123518361967277e-19\n",
      "It is unlikely that result1 is normal\n",
      "0.042242703533026116 0.8882320099080425\n",
      "Samples are likely drawn from the same distributions (fail to reject H0)\n"
     ]
    }
   ],
   "source": [
    "show_sig(df_test, df_control, 'ga:transactions')"
   ]
  },
  {
   "cell_type": "code",
   "execution_count": null,
   "metadata": {
    "collapsed": true
   },
   "outputs": [],
   "source": []
  },
  {
   "cell_type": "markdown",
   "metadata": {},
   "source": [
    "## Investigate 'ga:uniquePageviews'"
   ]
  },
  {
   "cell_type": "code",
   "execution_count": 249,
   "metadata": {},
   "outputs": [
    {
     "name": "stdout",
     "output_type": "stream",
     "text": [
      "       ga:transactionRevenue\n",
      "count             371.000000\n",
      "mean            10158.633272\n",
      "std             11995.603188\n",
      "min                 0.000000\n",
      "25%              1241.117824\n",
      "50%              6385.674597\n",
      "75%             14417.102441\n",
      "max             72329.018516\n"
     ]
    },
    {
     "data": {
      "image/png": "[encoded data removed]",
      "text/plain": [
       "<matplotlib.figure.Figure at 0x10b85fda0>"
      ]
     },
     "metadata": {},
     "output_type": "display_data"
    },
    {
     "data": {
      "image/png": "[encoded data removed]",
      "text/plain": [
       "<matplotlib.figure.Figure at 0x10e906e10>"
      ]
     },
     "metadata": {},
     "output_type": "display_data"
    }
   ],
   "source": [
    "plot_stat(df_test, 'ga:transactionRevenue')"
   ]
  },
  {
   "cell_type": "code",
   "execution_count": 250,
   "metadata": {},
   "outputs": [
    {
     "name": "stdout",
     "output_type": "stream",
     "text": [
      "       ga:transactionRevenue\n",
      "count             372.000000\n",
      "mean            10206.901428\n",
      "std             11889.046316\n",
      "min                 0.000000\n",
      "25%              1106.588776\n",
      "50%              7088.108412\n",
      "75%             14887.473648\n",
      "max             68069.951155\n"
     ]
    },
    {
     "data": {
      "image/png": "[encoded data removed]",
      "text/plain": [
       "<matplotlib.figure.Figure at 0x10c6e3f60>"
      ]
     },
     "metadata": {},
     "output_type": "display_data"
    },
    {
     "data": {
      "image/png": "[encoded data removed]",
      "text/plain": [
       "<matplotlib.figure.Figure at 0x10e9c72e8>"
      ]
     },
     "metadata": {},
     "output_type": "display_data"
    }
   ],
   "source": [
    "plot_stat(df_control, 'ga:transactionRevenue')"
   ]
  },
  {
   "cell_type": "code",
   "execution_count": 251,
   "metadata": {},
   "outputs": [
    {
     "name": "stdout",
     "output_type": "stream",
     "text": [
      "159.4884703864561 2.3308734336558457e-35\n",
      "It is unlikely that result1 is normal\n",
      "0.03369996811871434 0.9826156102766879\n",
      "Samples are likely drawn from the same distributions (fail to reject H0)\n"
     ]
    }
   ],
   "source": [
    "show_sig(df_test, df_control, 'ga:transactionRevenue')"
   ]
  },
  {
   "cell_type": "code",
   "execution_count": null,
   "metadata": {
    "collapsed": true
   },
   "outputs": [],
   "source": []
  },
  {
   "cell_type": "markdown",
   "metadata": {},
   "source": [
    "## Invistigate 'ga:pageviews' ('desktop')"
   ]
  },
  {
   "cell_type": "code",
   "execution_count": 252,
   "metadata": {},
   "outputs": [
    {
     "name": "stdout",
     "output_type": "stream",
     "text": [
      "       ga:pageviews\n",
      "count    123.000000\n",
      "mean   24608.577236\n",
      "std     7556.611114\n",
      "min       23.000000\n",
      "25%    19276.000000\n",
      "50%    23606.000000\n",
      "75%    29072.500000\n",
      "max    38591.000000\n"
     ]
    },
    {
     "data": {
      "image/png": "[encoded data removed]",
      "text/plain": [
       "<matplotlib.figure.Figure at 0x10cb14748>"
      ]
     },
     "metadata": {},
     "output_type": "display_data"
    },
    {
     "data": {
      "image/png": "[encoded data removed]",
      "text/plain": [
       "<matplotlib.figure.Figure at 0x10c7df518>"
      ]
     },
     "metadata": {},
     "output_type": "display_data"
    }
   ],
   "source": [
    "plot_stat(df_test.loc[df_test['ga:deviceCategory'] == 'desktop'], 'ga:pageviews')"
   ]
  },
  {
   "cell_type": "code",
   "execution_count": 253,
   "metadata": {},
   "outputs": [
    {
     "name": "stdout",
     "output_type": "stream",
     "text": [
      "       ga:pageviews\n",
      "count    124.000000\n",
      "mean   24133.774194\n",
      "std     7846.030015\n",
      "min       16.000000\n",
      "25%    19619.000000\n",
      "50%    23369.000000\n",
      "75%    27313.750000\n",
      "max    41362.000000\n"
     ]
    },
    {
     "data": {
      "image/png": "[encoded data removed]",
      "text/plain": [
       "<matplotlib.figure.Figure at 0x10c34ea20>"
      ]
     },
     "metadata": {},
     "output_type": "display_data"
    },
    {
     "data": {
      "image/png": "[encoded data removed]",
      "text/plain": [
       "<matplotlib.figure.Figure at 0x10c7b1fd0>"
      ]
     },
     "metadata": {},
     "output_type": "display_data"
    }
   ],
   "source": [
    "plot_stat(df_control.loc[df_control['ga:deviceCategory'] == 'desktop'], 'ga:pageviews')"
   ]
  },
  {
   "cell_type": "code",
   "execution_count": 254,
   "metadata": {},
   "outputs": [
    {
     "name": "stdout",
     "output_type": "stream",
     "text": [
      "6.69425889935558 0.035185210191800945\n",
      "It is unlikely that result1 is normal\n",
      "0.07539994754786261 0.8608211524434995\n",
      "Samples are likely drawn from the same distributions (fail to reject H0)\n"
     ]
    }
   ],
   "source": [
    "show_sig(df_test.loc[df_test['ga:deviceCategory'] == 'desktop'], df_control.loc[df_control['ga:deviceCategory'] == 'desktop'], 'ga:pageviews')"
   ]
  },
  {
   "cell_type": "markdown",
   "metadata": {},
   "source": [
    "## Invistigate 'ga:pageviews' ('mobile')"
   ]
  },
  {
   "cell_type": "code",
   "execution_count": 255,
   "metadata": {},
   "outputs": [
    {
     "name": "stdout",
     "output_type": "stream",
     "text": [
      "       ga:pageviews\n",
      "count    124.000000\n",
      "mean   39681.741935\n",
      "std    15203.283967\n",
      "min      226.000000\n",
      "25%    28231.750000\n",
      "50%    38031.500000\n",
      "75%    50264.500000\n",
      "max    68540.000000\n"
     ]
    },
    {
     "data": {
      "image/png": "[encoded data removed]",
      "text/plain": [
       "<matplotlib.figure.Figure at 0x10e7b0320>"
      ]
     },
     "metadata": {},
     "output_type": "display_data"
    },
    {
     "data": {
      "image/png": "[encoded data removed]",
      "text/plain": [
       "<matplotlib.figure.Figure at 0x10c6766a0>"
      ]
     },
     "metadata": {},
     "output_type": "display_data"
    }
   ],
   "source": [
    "plot_stat(df_test.loc[df_test['ga:deviceCategory'] == 'mobile'], 'ga:pageviews')"
   ]
  },
  {
   "cell_type": "code",
   "execution_count": 256,
   "metadata": {},
   "outputs": [
    {
     "name": "stdout",
     "output_type": "stream",
     "text": [
      "       ga:pageviews\n",
      "count    124.000000\n",
      "mean   40696.669355\n",
      "std    14960.376482\n",
      "min      241.000000\n",
      "25%    29958.750000\n",
      "50%    38837.000000\n",
      "75%    51824.250000\n",
      "max    73877.000000\n"
     ]
    },
    {
     "data": {
      "image/png": "[encoded data removed]",
      "text/plain": [
       "<matplotlib.figure.Figure at 0x10cba5cc0>"
      ]
     },
     "metadata": {},
     "output_type": "display_data"
    },
    {
     "data": {
      "image/png": "[encoded data removed]",
      "text/plain": [
       "<matplotlib.figure.Figure at 0x10e6d6668>"
      ]
     },
     "metadata": {},
     "output_type": "display_data"
    }
   ],
   "source": [
    "plot_stat(df_control.loc[df_control['ga:deviceCategory'] == 'mobile'], 'ga:pageviews')"
   ]
  },
  {
   "cell_type": "code",
   "execution_count": 257,
   "metadata": {},
   "outputs": [
    {
     "name": "stdout",
     "output_type": "stream",
     "text": [
      "0.001129185841737534 0.9994355664317232\n",
      "0.895129919207802 0.6391826938470921\n",
      "-0.5298619104543055 0.5966856890681737\n",
      "Samples are likely drawn from the same distributions (fail to reject H0)\n"
     ]
    }
   ],
   "source": [
    "show_sig(df_test.loc[df_test['ga:deviceCategory'] == 'mobile'], df_control.loc[df_control['ga:deviceCategory'] == 'mobile'], 'ga:pageviews')"
   ]
  },
  {
   "cell_type": "markdown",
   "metadata": {},
   "source": [
    "## Invistigate 'ga:pageviews' ('tablet')"
   ]
  },
  {
   "cell_type": "code",
   "execution_count": 258,
   "metadata": {},
   "outputs": [
    {
     "name": "stdout",
     "output_type": "stream",
     "text": [
      "       ga:pageviews\n",
      "count    124.000000\n",
      "mean   12493.096774\n",
      "std     5156.141812\n",
      "min       16.000000\n",
      "25%     8860.000000\n",
      "50%    11694.500000\n",
      "75%    16619.750000\n",
      "max    24159.000000\n"
     ]
    },
    {
     "data": {
      "image/png": "[encoded data removed]",
      "text/plain": [
       "<matplotlib.figure.Figure at 0x10ea47828>"
      ]
     },
     "metadata": {},
     "output_type": "display_data"
    },
    {
     "data": {
      "image/png": "[encoded data removed]",
      "text/plain": [
       "<matplotlib.figure.Figure at 0x10e62edd8>"
      ]
     },
     "metadata": {},
     "output_type": "display_data"
    }
   ],
   "source": [
    "plot_stat(df_test.loc[df_test['ga:deviceCategory'] == 'tablet'], 'ga:pageviews')"
   ]
  },
  {
   "cell_type": "code",
   "execution_count": 259,
   "metadata": {},
   "outputs": [
    {
     "name": "stdout",
     "output_type": "stream",
     "text": [
      "       ga:pageviews\n",
      "count    124.000000\n",
      "mean   12776.596774\n",
      "std     5375.808589\n",
      "min       31.000000\n",
      "25%     9063.000000\n",
      "50%    11328.500000\n",
      "75%    16131.250000\n",
      "max    27824.000000\n"
     ]
    },
    {
     "data": {
      "image/png": "[encoded data removed]",
      "text/plain": [
       "<matplotlib.figure.Figure at 0x10e6d6470>"
      ]
     },
     "metadata": {},
     "output_type": "display_data"
    },
    {
     "data": {
      "image/png": "[encoded data removed]",
      "text/plain": [
       "<matplotlib.figure.Figure at 0x10e9da4e0>"
      ]
     },
     "metadata": {},
     "output_type": "display_data"
    }
   ],
   "source": [
    "plot_stat(df_control.loc[df_control['ga:deviceCategory'] == 'tablet'], 'ga:pageviews')"
   ]
  },
  {
   "cell_type": "code",
   "execution_count": 260,
   "metadata": {},
   "outputs": [
    {
     "name": "stdout",
     "output_type": "stream",
     "text": [
      "1.0512630862467403 0.5911818895894835\n",
      "1.9266738283995763 0.38161733465316783\n",
      "-0.42381434780546373 0.6720721976777498\n",
      "Samples are likely drawn from the same distributions (fail to reject H0)\n"
     ]
    }
   ],
   "source": [
    "show_sig(df_test.loc[df_test['ga:deviceCategory'] == 'tablet'], df_control.loc[df_control['ga:deviceCategory'] == 'tablet'], 'ga:pageviews')"
   ]
  },
  {
   "cell_type": "code",
   "execution_count": null,
   "metadata": {
    "collapsed": true
   },
   "outputs": [],
   "source": []
  },
  {
   "cell_type": "markdown",
   "metadata": {},
   "source": [
    "## Show device usage"
   ]
  },
  {
   "cell_type": "code",
   "execution_count": 261,
   "metadata": {},
   "outputs": [
    {
     "data": {
      "text/plain": [
       "mobile     124\n",
       "tablet     124\n",
       "desktop    123\n",
       "Name: ga:deviceCategory, dtype: int64"
      ]
     },
     "execution_count": 261,
     "metadata": {},
     "output_type": "execute_result"
    }
   ],
   "source": [
    "df_test['ga:deviceCategory'].value_counts()"
   ]
  },
  {
   "cell_type": "code",
   "execution_count": 262,
   "metadata": {},
   "outputs": [
    {
     "data": {
      "text/plain": [
       "mobile     124\n",
       "tablet     124\n",
       "desktop    124\n",
       "Name: ga:deviceCategory, dtype: int64"
      ]
     },
     "execution_count": 262,
     "metadata": {},
     "output_type": "execute_result"
    }
   ],
   "source": [
    "df_control['ga:deviceCategory'].value_counts()"
   ]
  },
  {
   "cell_type": "code",
   "execution_count": 263,
   "metadata": {
    "collapsed": true
   },
   "outputs": [],
   "source": [
    "df_test_mobile = df_test[df_test['ga:deviceCategory'] == 'mobile']"
   ]
  },
  {
   "cell_type": "code",
   "execution_count": 264,
   "metadata": {
    "collapsed": true
   },
   "outputs": [],
   "source": [
    "df_test_tablet = df_test[df_test['ga:deviceCategory'] == 'tablet']"
   ]
  },
  {
   "cell_type": "code",
   "execution_count": 265,
   "metadata": {
    "collapsed": true
   },
   "outputs": [],
   "source": [
    "df_test_desktop = df_test[df_test['ga:deviceCategory'] == 'desktop']"
   ]
  },
  {
   "cell_type": "code",
   "execution_count": 275,
   "metadata": {
    "collapsed": true
   },
   "outputs": [],
   "source": [
    "df_control_mobile = df_control[df_control['ga:deviceCategory'] == 'mobile']\n",
    "df_control_tablet = df_control[df_control['ga:deviceCategory'] == 'tablet']\n",
    "df_control_desktop = df_control[df_control['ga:deviceCategory'] == 'desktop']"
   ]
  },
  {
   "cell_type": "code",
   "execution_count": 267,
   "metadata": {},
   "outputs": [
    {
     "name": "stdout",
     "output_type": "stream",
     "text": [
      "       ga:pageviews\n",
      "count    124.000000\n",
      "mean   39681.741935\n",
      "std    15203.283967\n",
      "min      226.000000\n",
      "25%    28231.750000\n",
      "50%    38031.500000\n",
      "75%    50264.500000\n",
      "max    68540.000000\n"
     ]
    },
    {
     "data": {
      "image/png": "[encoded data removed]",
      "text/plain": [
       "<matplotlib.figure.Figure at 0x10e6b9400>"
      ]
     },
     "metadata": {},
     "output_type": "display_data"
    },
    {
     "data": {
      "image/png": "[encoded data removed]",
      "text/plain": [
       "<matplotlib.figure.Figure at 0x10c6bf6d8>"
      ]
     },
     "metadata": {},
     "output_type": "display_data"
    }
   ],
   "source": [
    "plot_stat(df_test_mobile, 'ga:pageviews')"
   ]
  },
  {
   "cell_type": "code",
   "execution_count": 268,
   "metadata": {},
   "outputs": [
    {
     "name": "stdout",
     "output_type": "stream",
     "text": [
      "       ga:pageviews\n",
      "count    124.000000\n",
      "mean   12493.096774\n",
      "std     5156.141812\n",
      "min       16.000000\n",
      "25%     8860.000000\n",
      "50%    11694.500000\n",
      "75%    16619.750000\n",
      "max    24159.000000\n"
     ]
    },
    {
     "data": {
      "image/png": "[encoded data removed]",
      "text/plain": [
       "<matplotlib.figure.Figure at 0x10e9e5eb8>"
      ]
     },
     "metadata": {},
     "output_type": "display_data"
    },
    {
     "data": {
      "image/png": "[encoded data removed]",
      "text/plain": [
       "<matplotlib.figure.Figure at 0x10c544d30>"
      ]
     },
     "metadata": {},
     "output_type": "display_data"
    }
   ],
   "source": [
    "plot_stat(df_test_tablet, 'ga:pageviews')"
   ]
  },
  {
   "cell_type": "code",
   "execution_count": 269,
   "metadata": {},
   "outputs": [
    {
     "name": "stdout",
     "output_type": "stream",
     "text": [
      "0.001129185841737534 0.9994355664317232\n",
      "1.0512630862467403 0.5911818895894835\n",
      "18.859040557046487 1.5925985916161035e-41\n",
      "Samples are likely drawn from different distributions (reject H0)\n"
     ]
    }
   ],
   "source": [
    "show_sig(df_test_mobile, df_test_tablet, 'ga:pageviews')"
   ]
  },
  {
   "cell_type": "code",
   "execution_count": 270,
   "metadata": {},
   "outputs": [
    {
     "name": "stdout",
     "output_type": "stream",
     "text": [
      "       ga:pageviews\n",
      "count    123.000000\n",
      "mean   24608.577236\n",
      "std     7556.611114\n",
      "min       23.000000\n",
      "25%    19276.000000\n",
      "50%    23606.000000\n",
      "75%    29072.500000\n",
      "max    38591.000000\n"
     ]
    },
    {
     "data": {
      "image/png": "[encoded data removed]",
      "text/plain": [
       "<matplotlib.figure.Figure at 0x10c544e10>"
      ]
     },
     "metadata": {},
     "output_type": "display_data"
    },
    {
     "data": {
      "image/png": "[encoded data removed]",
      "text/plain": [
       "<matplotlib.figure.Figure at 0x10c63e7b8>"
      ]
     },
     "metadata": {},
     "output_type": "display_data"
    }
   ],
   "source": [
    "plot_stat(df_test_desktop, 'ga:pageviews')"
   ]
  },
  {
   "cell_type": "code",
   "execution_count": 271,
   "metadata": {},
   "outputs": [
    {
     "name": "stdout",
     "output_type": "stream",
     "text": [
      "0.001129185841737534 0.9994355664317232\n",
      "6.69425889935558 0.035185210191800945\n",
      "It is unlikely that result1 is normal\n",
      "0.5078022554419093 9.884857485640923e-15\n",
      "Samples are likely drawn from different distributions (reject H0)\n"
     ]
    }
   ],
   "source": [
    "show_sig(df_test_mobile, df_test_desktop, 'ga:pageviews')"
   ]
  },
  {
   "cell_type": "code",
   "execution_count": 272,
   "metadata": {},
   "outputs": [
    {
     "name": "stdout",
     "output_type": "stream",
     "text": [
      "1.0512630862467403 0.5911818895894835\n",
      "6.69425889935558 0.035185210191800945\n",
      "It is unlikely that result1 is normal\n",
      "0.7172174141096249 5.786892293953707e-29\n",
      "Samples are likely drawn from different distributions (reject H0)\n"
     ]
    }
   ],
   "source": [
    "show_sig(df_test_tablet, df_test_desktop, 'ga:pageviews')"
   ]
  },
  {
   "cell_type": "code",
   "execution_count": 273,
   "metadata": {},
   "outputs": [
    {
     "name": "stdout",
     "output_type": "stream",
     "text": [
      "0.001129185841737534 0.9994355664317232\n",
      "1.0512630862467403 0.5911818895894835\n",
      "18.859040557046487 1.5925985916161035e-41\n",
      "Samples are likely drawn from different distributions (reject H0)\n"
     ]
    }
   ],
   "source": [
    "show_sig(df_test_mobile, df_test_tablet, 'ga:pageviews')"
   ]
  },
  {
   "cell_type": "code",
   "execution_count": 276,
   "metadata": {},
   "outputs": [
    {
     "name": "stdout",
     "output_type": "stream",
     "text": [
      "8.222976564750567 0.01638337328711867\n",
      "It is unlikely that result1 is normal\n",
      "0.6370967741935484 4.926934879405592e-23\n",
      "Samples are likely drawn from different distributions (reject H0)\n"
     ]
    }
   ],
   "source": [
    "show_sig(df_control_desktop, df_control_mobile, 'ga:pageviews')"
   ]
  },
  {
   "cell_type": "code",
   "execution_count": 277,
   "metadata": {},
   "outputs": [
    {
     "name": "stdout",
     "output_type": "stream",
     "text": [
      "0.895129919207802 0.6391826938470921\n",
      "1.9266738283995763 0.38161733465316783\n",
      "19.557543114394715 1.2993351342716187e-43\n",
      "Samples are likely drawn from different distributions (reject H0)\n"
     ]
    }
   ],
   "source": [
    "show_sig(df_control_mobile, df_control_tablet, 'ga:pageviews')"
   ]
  },
  {
   "cell_type": "code",
   "execution_count": 278,
   "metadata": {},
   "outputs": [
    {
     "name": "stdout",
     "output_type": "stream",
     "text": [
      "8.222976564750567 0.01638337328711867\n",
      "It is unlikely that result1 is normal\n",
      "0.7016129032258065 7.617372270954082e-28\n",
      "Samples are likely drawn from different distributions (reject H0)\n"
     ]
    }
   ],
   "source": [
    "show_sig(df_control_desktop, df_control_tablet, 'ga:pageviews')"
   ]
  },
  {
   "cell_type": "code",
   "execution_count": null,
   "metadata": {
    "collapsed": true
   },
   "outputs": [],
   "source": []
  },
  {
   "cell_type": "markdown",
   "metadata": {},
   "source": [
    "# Please help us making sense out of this data"
   ]
  },
  {
   "cell_type": "markdown",
   "metadata": {},
   "source": [
    "After exploring the data:\n",
    "What can you tell us by looking at the data? What conclusions do you have?\n",
    "\n",
    "__What does this mean for us and our test?__\n",
    "\n",
    "__Especially with regards to our test: What should we do and how should we proceed?__\n",
    "\n",
    "__Is there anything specific with regards to device categories?__\n",
    "\n",
    "__Any other things you noticed or found interesting?__\n",
    "\n",
    "Please back your findings with visualisations and aggregated tables\n",
    "\n",
    "\n",
    "Good luck! \n",
    "We are very excited to discuss the findings you have with you."
   ]
  },
  {
   "cell_type": "markdown",
   "metadata": {},
   "source": [
    "The findings can be found in the previous sections.\n",
    "-'ga:pageviews': there is no significant difference between the test group and control group.\n",
    "-'ga:sessions': there is no significant difference between the test group and control group.\n",
    "-'ga:transactionRevenue': there is no significant difference between the test group and control group.\n",
    "-'ga:transactions': there is no significant difference between the test group and control group.\n",
    "-'ga:uniquePageviews': there is no significant difference between the test group and control group.\n",
    "\n",
    "The page views of different devices are significant different for the test group.\n",
    "\n",
    "\n"
   ]
  },
  {
   "cell_type": "code",
   "execution_count": null,
   "metadata": {
    "collapsed": true
   },
   "outputs": [],
   "source": []
  },
  {
   "cell_type": "code",
   "execution_count": null,
   "metadata": {
    "collapsed": true
   },
   "outputs": [],
   "source": []
  }
 ],
 "metadata": {
  "kernelspec": {
   "display_name": "Python 3",
   "language": "python",
   "name": "python3"
  },
  "language_info": {
   "codemirror_mode": {
    "name": "ipython",
    "version": 3
   },
   "file_extension": ".py",
   "mimetype": "text/x-python",
   "name": "python",
   "nbconvert_exporter": "python",
   "pygments_lexer": "ipython3",
   "version": "3.6.2"
  }
 },
 "nbformat": 4,
 "nbformat_minor": 2
}
