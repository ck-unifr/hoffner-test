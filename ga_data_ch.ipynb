{
 "cells": [
  {
   "cell_type": "markdown",
   "metadata": {},
   "source": [
    "# Data Challenge"
   ]
  },
  {
   "cell_type": "markdown",
   "metadata": {},
   "source": [
    "### A business question we ran into"
   ]
  },
  {
   "cell_type": "markdown",
   "metadata": {},
   "source": [
    "We sometimes run a/b tests. the main difficulty we face in doing this is, __we sometimes do not know what to do and how to interpret results.__\n",
    "\n",
    "For instance:\n",
    "If we have 100 participants in our test group and 98 of those are converting towards a certain goal, while we also have 100 participants in our control group and of those we see only 10 users converting, it is very clear: we should go for the test.\n",
    "\n",
    "But in real life it unfortunatelly is not always that obvious...\n",
    "We sometimes do not really know if a result is meaningful or not. This is, what this test is about.\n",
    "\n",
    "We conducted an a/b-test about recommendation sliders we implemented. __Now we want to know what the test results tell us.__ \n",
    "\n",
    "We will go through everything in detail in the next steps.\n"
   ]
  },
  {
   "cell_type": "markdown",
   "metadata": {},
   "source": [
    "### Import everything that is necessary in this section"
   ]
  },
  {
   "cell_type": "markdown",
   "metadata": {},
   "source": [
    "You don't have to do it now. You can also do it later. __But please put everything you import here.__"
   ]
  },
  {
   "cell_type": "code",
   "execution_count": 49,
   "metadata": {
    "collapsed": true
   },
   "outputs": [],
   "source": [
    "#import your stuff below\n",
    "import pandas as pd\n",
    "import numpy as np\n",
    "import matplotlib.pyplot as plt\n",
    "from matplotlib import pyplot"
   ]
  },
  {
   "cell_type": "markdown",
   "metadata": {},
   "source": [
    "### Reading csv"
   ]
  },
  {
   "cell_type": "markdown",
   "metadata": {},
   "source": [
    "__Please start here__\n",
    "The name of the csv file is 'ga_data_rndm.csv'\n",
    "It shows randomized sample data from our google analytics account."
   ]
  },
  {
   "cell_type": "code",
   "execution_count": 2,
   "metadata": {
    "collapsed": true
   },
   "outputs": [],
   "source": [
    "df = pd.read_csv('ga_data_rndm.csv')"
   ]
  },
  {
   "cell_type": "code",
   "execution_count": 3,
   "metadata": {},
   "outputs": [
    {
     "data": {
      "text/html": [
       "<div>\n",
       "<style>\n",
       "    .dataframe thead tr:only-child th {\n",
       "        text-align: right;\n",
       "    }\n",
       "\n",
       "    .dataframe thead th {\n",
       "        text-align: left;\n",
       "    }\n",
       "\n",
       "    .dataframe tbody tr th {\n",
       "        vertical-align: top;\n",
       "    }\n",
       "</style>\n",
       "<table border=\"1\" class=\"dataframe\">\n",
       "  <thead>\n",
       "    <tr style=\"text-align: right;\">\n",
       "      <th></th>\n",
       "      <th>Unnamed: 0</th>\n",
       "      <th>Unnamed: 0.1</th>\n",
       "      <th>ga:date</th>\n",
       "      <th>ga:deviceCategory</th>\n",
       "      <th>ga:dimension13</th>\n",
       "      <th>ga:pageviews</th>\n",
       "      <th>ga:sessions</th>\n",
       "      <th>ga:transactionRevenue</th>\n",
       "      <th>ga:transactions</th>\n",
       "      <th>ga:uniquePageviews</th>\n",
       "    </tr>\n",
       "  </thead>\n",
       "  <tbody>\n",
       "    <tr>\n",
       "      <th>0</th>\n",
       "      <td>0</td>\n",
       "      <td>0</td>\n",
       "      <td>20190101</td>\n",
       "      <td>desktop</td>\n",
       "      <td>Technical 50-50 AA-T:0,Recommendation Slide:0,...</td>\n",
       "      <td>20471.0</td>\n",
       "      <td>3688.0</td>\n",
       "      <td>5752.689219</td>\n",
       "      <td>16.0</td>\n",
       "      <td>15230</td>\n",
       "    </tr>\n",
       "    <tr>\n",
       "      <th>1</th>\n",
       "      <td>1</td>\n",
       "      <td>1</td>\n",
       "      <td>20190101</td>\n",
       "      <td>mobile</td>\n",
       "      <td>Technical 50-50 AA-T:0,Recommendation Slide:0,...</td>\n",
       "      <td>55935.0</td>\n",
       "      <td>11187.0</td>\n",
       "      <td>13608.661484</td>\n",
       "      <td>63.0</td>\n",
       "      <td>38746</td>\n",
       "    </tr>\n",
       "    <tr>\n",
       "      <th>2</th>\n",
       "      <td>2</td>\n",
       "      <td>2</td>\n",
       "      <td>20190101</td>\n",
       "      <td>tablet</td>\n",
       "      <td>Technical 50-50 AA-T:0,Recommendation Slide:0,...</td>\n",
       "      <td>16573.0</td>\n",
       "      <td>2857.0</td>\n",
       "      <td>1888.473350</td>\n",
       "      <td>16.0</td>\n",
       "      <td>11914</td>\n",
       "    </tr>\n",
       "    <tr>\n",
       "      <th>3</th>\n",
       "      <td>3</td>\n",
       "      <td>3</td>\n",
       "      <td>20190102</td>\n",
       "      <td>desktop</td>\n",
       "      <td>Technical 50-50 AA-T:0,Recommendation Slide:0,...</td>\n",
       "      <td>35192.0</td>\n",
       "      <td>5426.0</td>\n",
       "      <td>1974.257458</td>\n",
       "      <td>16.0</td>\n",
       "      <td>25681</td>\n",
       "    </tr>\n",
       "    <tr>\n",
       "      <th>4</th>\n",
       "      <td>4</td>\n",
       "      <td>4</td>\n",
       "      <td>20190102</td>\n",
       "      <td>mobile</td>\n",
       "      <td>Technical 50-50 AA-T:0,Recommendation Slide:0,...</td>\n",
       "      <td>62595.0</td>\n",
       "      <td>11332.0</td>\n",
       "      <td>16585.946557</td>\n",
       "      <td>24.0</td>\n",
       "      <td>42533</td>\n",
       "    </tr>\n",
       "  </tbody>\n",
       "</table>\n",
       "</div>"
      ],
      "text/plain": [
       "   Unnamed: 0  Unnamed: 0.1   ga:date ga:deviceCategory  \\\n",
       "0           0             0  20190101           desktop   \n",
       "1           1             1  20190101            mobile   \n",
       "2           2             2  20190101            tablet   \n",
       "3           3             3  20190102           desktop   \n",
       "4           4             4  20190102            mobile   \n",
       "\n",
       "                                      ga:dimension13  ga:pageviews  \\\n",
       "0  Technical 50-50 AA-T:0,Recommendation Slide:0,...       20471.0   \n",
       "1  Technical 50-50 AA-T:0,Recommendation Slide:0,...       55935.0   \n",
       "2  Technical 50-50 AA-T:0,Recommendation Slide:0,...       16573.0   \n",
       "3  Technical 50-50 AA-T:0,Recommendation Slide:0,...       35192.0   \n",
       "4  Technical 50-50 AA-T:0,Recommendation Slide:0,...       62595.0   \n",
       "\n",
       "   ga:sessions  ga:transactionRevenue  ga:transactions  ga:uniquePageviews  \n",
       "0       3688.0            5752.689219             16.0               15230  \n",
       "1      11187.0           13608.661484             63.0               38746  \n",
       "2       2857.0            1888.473350             16.0               11914  \n",
       "3       5426.0            1974.257458             16.0               25681  \n",
       "4      11332.0           16585.946557             24.0               42533  "
      ]
     },
     "execution_count": 3,
     "metadata": {},
     "output_type": "execute_result"
    }
   ],
   "source": [
    "df.head()"
   ]
  },
  {
   "cell_type": "code",
   "execution_count": 4,
   "metadata": {},
   "outputs": [
    {
     "name": "stdout",
     "output_type": "stream",
     "text": [
      "<class 'pandas.core.frame.DataFrame'>\n",
      "RangeIndex: 763 entries, 0 to 762\n",
      "Data columns (total 10 columns):\n",
      "Unnamed: 0               763 non-null int64\n",
      "Unnamed: 0.1             763 non-null int64\n",
      "ga:date                  763 non-null int64\n",
      "ga:deviceCategory        763 non-null object\n",
      "ga:dimension13           763 non-null object\n",
      "ga:pageviews             763 non-null float64\n",
      "ga:sessions              763 non-null float64\n",
      "ga:transactionRevenue    763 non-null float64\n",
      "ga:transactions          763 non-null float64\n",
      "ga:uniquePageviews       763 non-null int64\n",
      "dtypes: float64(4), int64(4), object(2)\n",
      "memory usage: 59.7+ KB\n"
     ]
    }
   ],
   "source": [
    "df.info()"
   ]
  },
  {
   "cell_type": "code",
   "execution_count": 5,
   "metadata": {},
   "outputs": [
    {
     "data": {
      "text/plain": [
       "Index(['Unnamed: 0', 'Unnamed: 0.1', 'ga:date', 'ga:deviceCategory',\n",
       "       'ga:dimension13', 'ga:pageviews', 'ga:sessions',\n",
       "       'ga:transactionRevenue', 'ga:transactions', 'ga:uniquePageviews'],\n",
       "      dtype='object')"
      ]
     },
     "execution_count": 5,
     "metadata": {},
     "output_type": "execute_result"
    }
   ],
   "source": [
    "df.columns"
   ]
  },
  {
   "cell_type": "code",
   "execution_count": 6,
   "metadata": {},
   "outputs": [
    {
     "data": {
      "text/plain": [
       "(763, 10)"
      ]
     },
     "execution_count": 6,
     "metadata": {},
     "output_type": "execute_result"
    }
   ],
   "source": [
    "df.shape"
   ]
  },
  {
   "cell_type": "markdown",
   "metadata": {},
   "source": [
    "### Explanations on the dataframe"
   ]
  },
  {
   "cell_type": "markdown",
   "metadata": {},
   "source": [
    "__dimension13 indicates the testgroups the users were in.__\n",
    "\n",
    "__Recommendation Slide:0  always means control group__\n",
    "\n",
    "__Recommendation Slide:1  always means test group__\n",
    "\n",
    "If there is no 'Recommendation Slide' in dimension13 it means, the users did not participate in the test. If there are also other strings in dimension13 (like \"Second Technical 50:0\" or something) those values indicate other tests that ran at the same time. But we are not interested in the results of those tests?\n",
    "\n",
    "\n",
    "In short: In other groups, beside 'Recommendation Slide', we are not interested."
   ]
  },
  {
   "cell_type": "code",
   "execution_count": 12,
   "metadata": {},
   "outputs": [
    {
     "data": {
      "text/plain": [
       "array(['Technical 50-50 AA-T:0,Recommendation Slide:0,Second Technical 50-:0',\n",
       "       'Technical 50-50 AA-T:0,Recommendation Slide:0,Second Technical 50-:1',\n",
       "       'Technical 50-50 AA-T:0,Recommendation Slide:1,Second Technical 50-:0',\n",
       "       'Technical 50-50 AA-T:0,Recommendation Slide:1,Second Technical 50-:1',\n",
       "       'Technical 50-50 AA-T:0,Second Technical 50-:0',\n",
       "       'Technical 50-50 AA-T:0,Second Technical 50-:1',\n",
       "       'Technical 50-50 AA-T:1,Recommendation Slide:0,Second Technical 50-:0',\n",
       "       'Technical 50-50 AA-T:1,Recommendation Slide:0,Second Technical 50-:1',\n",
       "       'Technical 50-50 AA-T:1,Recommendation Slide:1,Second Technical 50-:0',\n",
       "       'Technical 50-50 AA-T:1,Recommendation Slide:1,Second Technical 50-:1',\n",
       "       'Technical 50-50 AA-T:1,Second Technical 50-:0',\n",
       "       'Technical 50-50 AA-T:1,Second Technical 50-:1'], dtype=object)"
      ]
     },
     "execution_count": 12,
     "metadata": {},
     "output_type": "execute_result"
    }
   ],
   "source": [
    "df['ga:dimension13'].unique()"
   ]
  },
  {
   "cell_type": "code",
   "execution_count": 10,
   "metadata": {
    "collapsed": true
   },
   "outputs": [],
   "source": [
    "df['control'] = 0"
   ]
  },
  {
   "cell_type": "code",
   "execution_count": 13,
   "metadata": {},
   "outputs": [],
   "source": [
    "def f(x):\n",
    "    if 'Recommendation Slide:0' in x.split(','):\n",
    "        return 1\n",
    "    return 0\n",
    "df['control'] = df['ga:dimension13'].apply(f)"
   ]
  },
  {
   "cell_type": "code",
   "execution_count": 14,
   "metadata": {},
   "outputs": [
    {
     "data": {
      "text/plain": [
       "array([1, 0])"
      ]
     },
     "execution_count": 14,
     "metadata": {},
     "output_type": "execute_result"
    }
   ],
   "source": [
    "df['control'].unique()"
   ]
  },
  {
   "cell_type": "code",
   "execution_count": 23,
   "metadata": {},
   "outputs": [
    {
     "data": {
      "image/png": "[encoded data removed]",
      "text/plain": [
       "<matplotlib.figure.Figure at 0x10c919c18>"
      ]
     },
     "metadata": {},
     "output_type": "display_data"
    }
   ],
   "source": [
    "plt.hist(df['control'].tolist())\n",
    "plt.show()"
   ]
  },
  {
   "cell_type": "code",
   "execution_count": null,
   "metadata": {
    "collapsed": true
   },
   "outputs": [],
   "source": [
    "df['test'] = 0"
   ]
  },
  {
   "cell_type": "code",
   "execution_count": 15,
   "metadata": {
    "collapsed": true
   },
   "outputs": [],
   "source": [
    "def f(x):\n",
    "    if 'Recommendation Slide:1' in x.split(','):\n",
    "        return 1\n",
    "    return 0\n",
    "df['test'] = df['ga:dimension13'].apply(f)"
   ]
  },
  {
   "cell_type": "code",
   "execution_count": 16,
   "metadata": {},
   "outputs": [
    {
     "data": {
      "text/plain": [
       "array([0, 1])"
      ]
     },
     "execution_count": 16,
     "metadata": {},
     "output_type": "execute_result"
    }
   ],
   "source": [
    "df['test'].unique()"
   ]
  },
  {
   "cell_type": "code",
   "execution_count": 24,
   "metadata": {},
   "outputs": [
    {
     "data": {
      "image/png": "[encoded data removed]",
      "text/plain": [
       "<matplotlib.figure.Figure at 0x10ca95dd8>"
      ]
     },
     "metadata": {},
     "output_type": "display_data"
    }
   ],
   "source": [
    "plt.hist(df['test'].tolist())\n",
    "plt.show()"
   ]
  },
  {
   "cell_type": "code",
   "execution_count": 37,
   "metadata": {
    "collapsed": true
   },
   "outputs": [],
   "source": [
    "df_test = df[df['test'] == 1]"
   ]
  },
  {
   "cell_type": "code",
   "execution_count": 38,
   "metadata": {
    "collapsed": true
   },
   "outputs": [],
   "source": [
    "df_control = df[df['control'] == 1]"
   ]
  },
  {
   "cell_type": "code",
   "execution_count": 39,
   "metadata": {},
   "outputs": [
    {
     "data": {
      "text/plain": [
       "(371, 12)"
      ]
     },
     "execution_count": 39,
     "metadata": {},
     "output_type": "execute_result"
    }
   ],
   "source": [
    "df_test.shape"
   ]
  },
  {
   "cell_type": "code",
   "execution_count": 40,
   "metadata": {},
   "outputs": [
    {
     "data": {
      "text/plain": [
       "(372, 12)"
      ]
     },
     "execution_count": 40,
     "metadata": {},
     "output_type": "execute_result"
    }
   ],
   "source": [
    "df_control.shape"
   ]
  },
  {
   "cell_type": "code",
   "execution_count": 68,
   "metadata": {},
   "outputs": [
    {
     "data": {
      "text/html": [
       "<div>\n",
       "<style>\n",
       "    .dataframe thead tr:only-child th {\n",
       "        text-align: right;\n",
       "    }\n",
       "\n",
       "    .dataframe thead th {\n",
       "        text-align: left;\n",
       "    }\n",
       "\n",
       "    .dataframe tbody tr th {\n",
       "        vertical-align: top;\n",
       "    }\n",
       "</style>\n",
       "<table border=\"1\" class=\"dataframe\">\n",
       "  <thead>\n",
       "    <tr style=\"text-align: right;\">\n",
       "      <th></th>\n",
       "      <th>Unnamed: 0</th>\n",
       "      <th>Unnamed: 0.1</th>\n",
       "      <th>ga:date</th>\n",
       "      <th>ga:deviceCategory</th>\n",
       "      <th>ga:dimension13</th>\n",
       "      <th>ga:pageviews</th>\n",
       "      <th>ga:sessions</th>\n",
       "      <th>ga:transactionRevenue</th>\n",
       "      <th>ga:transactions</th>\n",
       "      <th>ga:uniquePageviews</th>\n",
       "      <th>control</th>\n",
       "      <th>test</th>\n",
       "    </tr>\n",
       "  </thead>\n",
       "  <tbody>\n",
       "  </tbody>\n",
       "</table>\n",
       "</div>"
      ],
      "text/plain": [
       "Empty DataFrame\n",
       "Columns: [Unnamed: 0, Unnamed: 0.1, ga:date, ga:deviceCategory, ga:dimension13, ga:pageviews, ga:sessions, ga:transactionRevenue, ga:transactions, ga:uniquePageviews, control, test]\n",
       "Index: []"
      ]
     },
     "execution_count": 68,
     "metadata": {},
     "output_type": "execute_result"
    }
   ],
   "source": [
    "df_test[df_test['control'] == 1]"
   ]
  },
  {
   "cell_type": "code",
   "execution_count": 69,
   "metadata": {},
   "outputs": [
    {
     "data": {
      "text/html": [
       "<div>\n",
       "<style>\n",
       "    .dataframe thead tr:only-child th {\n",
       "        text-align: right;\n",
       "    }\n",
       "\n",
       "    .dataframe thead th {\n",
       "        text-align: left;\n",
       "    }\n",
       "\n",
       "    .dataframe tbody tr th {\n",
       "        vertical-align: top;\n",
       "    }\n",
       "</style>\n",
       "<table border=\"1\" class=\"dataframe\">\n",
       "  <thead>\n",
       "    <tr style=\"text-align: right;\">\n",
       "      <th></th>\n",
       "      <th>Unnamed: 0</th>\n",
       "      <th>Unnamed: 0.1</th>\n",
       "      <th>ga:date</th>\n",
       "      <th>ga:deviceCategory</th>\n",
       "      <th>ga:dimension13</th>\n",
       "      <th>ga:pageviews</th>\n",
       "      <th>ga:sessions</th>\n",
       "      <th>ga:transactionRevenue</th>\n",
       "      <th>ga:transactions</th>\n",
       "      <th>ga:uniquePageviews</th>\n",
       "      <th>control</th>\n",
       "      <th>test</th>\n",
       "    </tr>\n",
       "  </thead>\n",
       "  <tbody>\n",
       "  </tbody>\n",
       "</table>\n",
       "</div>"
      ],
      "text/plain": [
       "Empty DataFrame\n",
       "Columns: [Unnamed: 0, Unnamed: 0.1, ga:date, ga:deviceCategory, ga:dimension13, ga:pageviews, ga:sessions, ga:transactionRevenue, ga:transactions, ga:uniquePageviews, control, test]\n",
       "Index: []"
      ]
     },
     "execution_count": 69,
     "metadata": {},
     "output_type": "execute_result"
    }
   ],
   "source": [
    "df_control[df_control['test'] == 1]"
   ]
  },
  {
   "cell_type": "markdown",
   "metadata": {},
   "source": [
    "Same number of participants in the two groups "
   ]
  },
  {
   "cell_type": "code",
   "execution_count": null,
   "metadata": {
    "collapsed": true
   },
   "outputs": [],
   "source": []
  },
  {
   "cell_type": "markdown",
   "metadata": {},
   "source": [
    "## Invistigate 'ga:pageviews'"
   ]
  },
  {
   "cell_type": "code",
   "execution_count": 47,
   "metadata": {},
   "outputs": [
    {
     "name": "stdout",
     "output_type": "stream",
     "text": [
      "9496535.0\n",
      "25597.12938005391\n",
      "15128.132813975071\n",
      "16.0\n",
      "68540.0\n"
     ]
    }
   ],
   "source": [
    "print(df_test['ga:pageviews'].sum())\n",
    "print(df_test['ga:pageviews'].mean())\n",
    "print(df_test['ga:pageviews'].std())\n",
    "print(df_test['ga:pageviews'].min())\n",
    "print(df_test['ga:pageviews'].max())"
   ]
  },
  {
   "cell_type": "code",
   "execution_count": 48,
   "metadata": {},
   "outputs": [
    {
     "name": "stdout",
     "output_type": "stream",
     "text": [
      "9623273.0\n",
      "25869.013440860213\n",
      "15361.45329832033\n",
      "16.0\n",
      "73877.0\n"
     ]
    }
   ],
   "source": [
    "print(df_control['ga:pageviews'].sum())\n",
    "print(df_control['ga:pageviews'].mean())\n",
    "print(df_control['ga:pageviews'].std())\n",
    "print(df_control['ga:pageviews'].min())\n",
    "print(df_control['ga:pageviews'].max())"
   ]
  },
  {
   "cell_type": "code",
   "execution_count": 64,
   "metadata": {},
   "outputs": [
    {
     "name": "stdout",
     "output_type": "stream",
     "text": [
      "       test-pageviews\n",
      "count      371.000000\n",
      "mean     25597.129380\n",
      "std      15128.132814\n",
      "min         16.000000\n",
      "25%      14853.500000\n",
      "50%      23031.000000\n",
      "75%      34468.000000\n",
      "max      68540.000000\n"
     ]
    },
    {
     "data": {
      "image/png": "[encoded data removed]",
      "text/plain": [
       "<matplotlib.figure.Figure at 0x10c702e80>"
      ]
     },
     "metadata": {},
     "output_type": "display_data"
    },
    {
     "data": {
      "image/png": "[encoded data removed]",
      "text/plain": [
       "<matplotlib.figure.Figure at 0x10c4d3c88>"
      ]
     },
     "metadata": {},
     "output_type": "display_data"
    }
   ],
   "source": [
    "results = pd.DataFrame()\n",
    "results['test-pageviews'] = df_test['ga:pageviews'].tolist()\n",
    "#results['test-pageviews'] = df.loc[df['test']==1,'ga:pageviews'].tolist()\n",
    "#results['control-pageviews'] = df.loc[df['control']==1,'ga:pageviews'].tolist()\n",
    "# descriptive stats\n",
    "print(results.describe())\n",
    "# box and whisker plot\n",
    "results.boxplot()\n",
    "pyplot.show()\n",
    "# histogram\n",
    "results.hist()\n",
    "pyplot.show()"
   ]
  },
  {
   "cell_type": "code",
   "execution_count": 63,
   "metadata": {},
   "outputs": [
    {
     "name": "stdout",
     "output_type": "stream",
     "text": [
      "       control-pageviews\n",
      "count         372.000000\n",
      "mean        25869.013441\n",
      "std         15361.453298\n",
      "min            16.000000\n",
      "25%         15319.750000\n",
      "50%         23248.000000\n",
      "75%         34126.000000\n",
      "max         73877.000000\n"
     ]
    },
    {
     "data": {
      "image/png": "[encoded data removed]",
      "text/plain": [
       "<matplotlib.figure.Figure at 0x10cbcd8d0>"
      ]
     },
     "metadata": {},
     "output_type": "display_data"
    },
    {
     "data": {
      "image/png": "[encoded data removed]",
      "text/plain": [
       "<matplotlib.figure.Figure at 0x1082a8a20>"
      ]
     },
     "metadata": {},
     "output_type": "display_data"
    }
   ],
   "source": [
    "# load results file\n",
    "results = pd.DataFrame()\n",
    "#results['test-pageviews'] = df.loc[df['test']==1,'ga:pageviews'].tolist()\n",
    "#results['control-pageviews'] = df.loc[df['control']==1,'ga:pageviews'].tolist()\n",
    "results['control-pageviews'] = df_control['ga:pageviews'].tolist()\n",
    "# descriptive stats\n",
    "print(results.describe())\n",
    "# box and whisker plot\n",
    "results.boxplot()\n",
    "pyplot.show()\n",
    "# histogram\n",
    "results.hist()\n",
    "pyplot.show()"
   ]
  },
  {
   "cell_type": "markdown",
   "metadata": {},
   "source": [
    "Compare Means for Non-Gaussian Results:\n",
    "We cannot use the Student t-test or the Welch’s t-test if our data is not Gaussian.\n",
    "An alternative statistical significance test we can use for non-Gaussian data is called the Kolmogorov-Smirnov test.\n",
    "In SciPy, this is called the ks_2samp() function.\n",
    "\"This is a two-sided test for the null hypothesis that 2 independent samples are drawn from the same continuous distribution.\""
   ]
  },
  {
   "cell_type": "code",
   "execution_count": 65,
   "metadata": {},
   "outputs": [
    {
     "data": {
      "text/plain": [
       "371"
      ]
     },
     "execution_count": 65,
     "metadata": {},
     "output_type": "execute_result"
    }
   ],
   "source": [
    "len(df_test['ga:pageviews'].tolist())"
   ]
  },
  {
   "cell_type": "code",
   "execution_count": 66,
   "metadata": {},
   "outputs": [
    {
     "data": {
      "text/plain": [
       "372"
      ]
     },
     "execution_count": 66,
     "metadata": {},
     "output_type": "execute_result"
    }
   ],
   "source": [
    "len(df_control['ga:pageviews'].tolist())"
   ]
  },
  {
   "cell_type": "code",
   "execution_count": 70,
   "metadata": {},
   "outputs": [
    {
     "name": "stdout",
     "output_type": "stream",
     "text": [
      "0.03453322899458022 0.9776952180520176\n",
      "Samples are likely drawn from the same distributions (fail to reject H0)\n"
     ]
    }
   ],
   "source": [
    "from scipy.stats import ks_2samp\n",
    "\n",
    "# calculate the significance\n",
    "value, pvalue = ks_2samp(df_test['ga:pageviews'], df_control['ga:pageviews'])\n",
    "print(value, pvalue)\n",
    "if pvalue > 0.05:\n",
    "    print('Samples are likely drawn from the same distributions (fail to reject H0)')\n",
    "else:\n",
    "    print('Samples are likely drawn from different distributions (reject H0)')"
   ]
  },
  {
   "cell_type": "code",
   "execution_count": null,
   "metadata": {
    "collapsed": true
   },
   "outputs": [],
   "source": []
  },
  {
   "cell_type": "markdown",
   "metadata": {},
   "source": [
    "## Investigate 'ga:sessions'"
   ]
  },
  {
   "cell_type": "code",
   "execution_count": 71,
   "metadata": {},
   "outputs": [
    {
     "name": "stdout",
     "output_type": "stream",
     "text": [
      "1836075.0\n",
      "4948.989218328841\n",
      "3116.9869191155594\n",
      "15.0\n",
      "13062.0\n"
     ]
    }
   ],
   "source": [
    "print(df_test['ga:sessions'].sum())\n",
    "print(df_test['ga:sessions'].mean())\n",
    "print(df_test['ga:sessions'].std())\n",
    "print(df_test['ga:sessions'].min())\n",
    "print(df_test['ga:sessions'].max())"
   ]
  },
  {
   "cell_type": "code",
   "execution_count": 72,
   "metadata": {},
   "outputs": [
    {
     "name": "stdout",
     "output_type": "stream",
     "text": [
      "1845752.0\n",
      "4961.698924731183\n",
      "3149.706899588309\n",
      "15.0\n",
      "13290.0\n"
     ]
    }
   ],
   "source": [
    "print(df_control['ga:sessions'].sum())\n",
    "print(df_control['ga:sessions'].mean())\n",
    "print(df_control['ga:sessions'].std())\n",
    "print(df_control['ga:sessions'].min())\n",
    "print(df_control['ga:sessions'].max())"
   ]
  },
  {
   "cell_type": "code",
   "execution_count": 73,
   "metadata": {},
   "outputs": [
    {
     "name": "stdout",
     "output_type": "stream",
     "text": [
      "        ga:sessions\n",
      "count    371.000000\n",
      "mean    4948.989218\n",
      "std     3116.986919\n",
      "min       15.000000\n",
      "25%     2641.000000\n",
      "50%     4123.000000\n",
      "75%     6428.500000\n",
      "max    13062.000000\n"
     ]
    },
    {
     "data": {
      "image/png": "[encoded data removed]",
      "text/plain": [
       "<matplotlib.figure.Figure at 0x10e603240>"
      ]
     },
     "metadata": {},
     "output_type": "display_data"
    },
    {
     "data": {
      "image/png": "[encoded data removed]",
      "text/plain": [
       "<matplotlib.figure.Figure at 0x10e69ebe0>"
      ]
     },
     "metadata": {},
     "output_type": "display_data"
    }
   ],
   "source": [
    "results = pd.DataFrame()\n",
    "results['ga:sessions'] = df_test['ga:sessions'].tolist()\n",
    "#results['test-pageviews'] = df.loc[df['test']==1,'ga:pageviews'].tolist()\n",
    "#results['control-pageviews'] = df.loc[df['control']==1,'ga:pageviews'].tolist()\n",
    "# descriptive stats\n",
    "print(results.describe())\n",
    "# box and whisker plot\n",
    "results.boxplot()\n",
    "pyplot.show()\n",
    "# histogram\n",
    "results.hist()\n",
    "pyplot.show()"
   ]
  },
  {
   "cell_type": "code",
   "execution_count": 74,
   "metadata": {},
   "outputs": [
    {
     "name": "stdout",
     "output_type": "stream",
     "text": [
      "        ga:sessions\n",
      "count    372.000000\n",
      "mean    4961.698925\n",
      "std     3149.706900\n",
      "min       15.000000\n",
      "25%     2568.250000\n",
      "50%     4035.500000\n",
      "75%     6462.500000\n",
      "max    13290.000000\n"
     ]
    },
    {
     "data": {
      "image/png": "[encoded data removed]",
      "text/plain": [
       "<matplotlib.figure.Figure at 0x10e744ba8>"
      ]
     },
     "metadata": {},
     "output_type": "display_data"
    },
    {
     "data": {
      "image/png": "[encoded data removed]",
      "text/plain": [
       "<matplotlib.figure.Figure at 0x10e677780>"
      ]
     },
     "metadata": {},
     "output_type": "display_data"
    }
   ],
   "source": [
    "results = pd.DataFrame()\n",
    "results['ga:sessions'] = df_control['ga:sessions'].tolist()\n",
    "#results['test-pageviews'] = df.loc[df['test']==1,'ga:pageviews'].tolist()\n",
    "#results['control-pageviews'] = df.loc[df['control']==1,'ga:pageviews'].tolist()\n",
    "# descriptive stats\n",
    "print(results.describe())\n",
    "# box and whisker plot\n",
    "results.boxplot()\n",
    "pyplot.show()\n",
    "# histogram\n",
    "results.hist()\n",
    "pyplot.show()"
   ]
  },
  {
   "cell_type": "code",
   "execution_count": 75,
   "metadata": {},
   "outputs": [
    {
     "name": "stdout",
     "output_type": "stream",
     "text": [
      "0.03453322899458022 0.9776952180520176\n",
      "Samples are likely drawn from the same distributions (fail to reject H0)\n"
     ]
    }
   ],
   "source": [
    "from scipy.stats import ks_2samp\n",
    "\n",
    "# calculate the significance\n",
    "value, pvalue = ks_2samp(df_test['ga:pageviews'], df_control['ga:pageviews'])\n",
    "print(value, pvalue)\n",
    "if pvalue > 0.05:\n",
    "    print('Samples are likely drawn from the same distributions (fail to reject H0)')\n",
    "else:\n",
    "    print('Samples are likely drawn from different distributions (reject H0)')"
   ]
  },
  {
   "cell_type": "code",
   "execution_count": null,
   "metadata": {
    "collapsed": true
   },
   "outputs": [],
   "source": []
  },
  {
   "cell_type": "markdown",
   "metadata": {},
   "source": [
    "## Investigate 'ga:transactionRevenue'"
   ]
  },
  {
   "cell_type": "code",
   "execution_count": 76,
   "metadata": {},
   "outputs": [
    {
     "name": "stdout",
     "output_type": "stream",
     "text": [
      "       ga:transactionRevenue\n",
      "count             371.000000\n",
      "mean            10158.633272\n",
      "std             11995.603188\n",
      "min                 0.000000\n",
      "25%              1241.117824\n",
      "50%              6385.674597\n",
      "75%             14417.102441\n",
      "max             72329.018516\n"
     ]
    },
    {
     "data": {
      "image/png": "[encoded data removed]",
      "text/plain": [
       "<matplotlib.figure.Figure at 0x10c54cf60>"
      ]
     },
     "metadata": {},
     "output_type": "display_data"
    },
    {
     "data": {
      "image/png": "[encoded data removed]",
      "text/plain": [
       "<matplotlib.figure.Figure at 0x108292668>"
      ]
     },
     "metadata": {},
     "output_type": "display_data"
    }
   ],
   "source": [
    "results = pd.DataFrame()\n",
    "results['ga:transactionRevenue'] = df_test['ga:transactionRevenue'].tolist()\n",
    "# descriptive stats\n",
    "print(results.describe())\n",
    "# box and whisker plot\n",
    "results.boxplot()\n",
    "pyplot.show()\n",
    "# histogram\n",
    "results.hist()\n",
    "pyplot.show()"
   ]
  },
  {
   "cell_type": "code",
   "execution_count": 77,
   "metadata": {},
   "outputs": [
    {
     "name": "stdout",
     "output_type": "stream",
     "text": [
      "       ga:transactionRevenue\n",
      "count             372.000000\n",
      "mean            10206.901428\n",
      "std             11889.046316\n",
      "min                 0.000000\n",
      "25%              1106.588776\n",
      "50%              7088.108412\n",
      "75%             14887.473648\n",
      "max             68069.951155\n"
     ]
    },
    {
     "data": {
      "image/png": "[encoded data removed]",
      "text/plain": [
       "<matplotlib.figure.Figure at 0x10cb60438>"
      ]
     },
     "metadata": {},
     "output_type": "display_data"
    },
    {
     "data": {
      "image/png": "[encoded data removed]",
      "text/plain": [
       "<matplotlib.figure.Figure at 0x10e65ae10>"
      ]
     },
     "metadata": {},
     "output_type": "display_data"
    }
   ],
   "source": [
    "results = pd.DataFrame()\n",
    "results['ga:transactionRevenue'] = df_control['ga:transactionRevenue'].tolist()\n",
    "# descriptive stats\n",
    "print(results.describe())\n",
    "# box and whisker plot\n",
    "results.boxplot()\n",
    "pyplot.show()\n",
    "# histogram\n",
    "results.hist()\n",
    "pyplot.show()"
   ]
  },
  {
   "cell_type": "code",
   "execution_count": 78,
   "metadata": {},
   "outputs": [
    {
     "name": "stdout",
     "output_type": "stream",
     "text": [
      "0.03453322899458022 0.9776952180520176\n",
      "Samples are likely drawn from the same distributions (fail to reject H0)\n"
     ]
    }
   ],
   "source": [
    "from scipy.stats import ks_2samp\n",
    "\n",
    "# calculate the significance\n",
    "value, pvalue = ks_2samp(df_test['ga:pageviews'], df_control['ga:pageviews'])\n",
    "print(value, pvalue)\n",
    "if pvalue > 0.05:\n",
    "    print('Samples are likely drawn from the same distributions (fail to reject H0)')\n",
    "else:\n",
    "    print('Samples are likely drawn from different distributions (reject H0)')"
   ]
  },
  {
   "cell_type": "code",
   "execution_count": null,
   "metadata": {
    "collapsed": true
   },
   "outputs": [],
   "source": []
  },
  {
   "cell_type": "markdown",
   "metadata": {},
   "source": [
    "## Investigate 'ga:transactions'"
   ]
  },
  {
   "cell_type": "code",
   "execution_count": null,
   "metadata": {
    "collapsed": true
   },
   "outputs": [],
   "source": []
  },
  {
   "cell_type": "code",
   "execution_count": null,
   "metadata": {
    "collapsed": true
   },
   "outputs": [],
   "source": []
  },
  {
   "cell_type": "code",
   "execution_count": null,
   "metadata": {
    "collapsed": true
   },
   "outputs": [],
   "source": []
  },
  {
   "cell_type": "code",
   "execution_count": null,
   "metadata": {
    "collapsed": true
   },
   "outputs": [],
   "source": []
  },
  {
   "cell_type": "markdown",
   "metadata": {},
   "source": [
    "# Please help us making sense out of this data"
   ]
  },
  {
   "cell_type": "markdown",
   "metadata": {},
   "source": [
    "After exploring the data:\n",
    "What can you tell us by looking at the data? What conclusions do you have?\n",
    "\n",
    "__What does this mean for us and our test?__\n",
    "\n",
    "__Especially with regards to our test: What should we do and how should we proceed?__\n",
    "\n",
    "__Is there anything specific with regards to device categories?__\n",
    "\n",
    "__Any other things you noticed or found interesting?__\n",
    "\n",
    "Please back your findings with visualisations and aggregated tables\n",
    "\n",
    "\n",
    "Good luck! \n",
    "We are very excited to discuss the findings you have with you."
   ]
  }
 ],
 "metadata": {
  "kernelspec": {
   "display_name": "Python 3",
   "language": "python",
   "name": "python3"
  },
  "language_info": {
   "codemirror_mode": {
    "name": "ipython",
    "version": 3
   },
   "file_extension": ".py",
   "mimetype": "text/x-python",
   "name": "python",
   "nbconvert_exporter": "python",
   "pygments_lexer": "ipython3",
   "version": "3.6.2"
  }
 },
 "nbformat": 4,
 "nbformat_minor": 2
}
